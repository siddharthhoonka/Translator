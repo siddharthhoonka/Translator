{
  "nbformat": 4,
  "nbformat_minor": 0,
  "metadata": {
    "colab": {
      "provenance": []
    },
    "kernelspec": {
      "name": "python3",
      "display_name": "Python 3"
    },
    "language_info": {
      "name": "python"
    }
  },
  "cells": [
    {
      "cell_type": "code",
      "execution_count": null,
      "metadata": {
        "colab": {
          "base_uri": "https://localhost:8080/"
        },
        "id": "b540OnX0RUdl",
        "outputId": "d914dc1f-ba35-4ca4-b730-2f499d65e3cc"
      },
      "outputs": [
        {
          "output_type": "stream",
          "name": "stdout",
          "text": [
            "=== Multilingual Translator ===\n"
          ]
        }
      ],
      "source": [
        "import os\n",
        "import requests\n",
        "import json\n",
        "\n",
        "# Set up Groq API key\n",
        "GROQ_API_KEY = \"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\"\n",
        "GROQ_API_URL = \"https://api.groq.com/openai/v1/chat/completions\"\n",
        "\n",
        "# Function to translate using Groq API directly\n",
        "def translate_with_groq(text, source_lang, target_lang):\n",
        "    headers = {\n",
        "        \"Authorization\": f\"Bearer {GROQ_API_KEY}\",\n",
        "        \"Content-Type\": \"application/json\"\n",
        "    }\n",
        "\n",
        "    data = {\n",
        "        \"model\": \"llama-3.3-70b-versatile\",\n",
        "        \"messages\": [\n",
        "            {\"role\": \"system\", \"content\": \"You are a helpful language translation assistant.\"},\n",
        "            {\"role\": \"user\", \"content\": f\"Translate the following text from {source_lang} to {target_lang}:\\n\\n{text}\"}\n",
        "        ],\n",
        "        \"temperature\": 0.7\n",
        "    }\n",
        "\n",
        "    response = requests.post(GROQ_API_URL, headers=headers, data=json.dumps(data))\n",
        "\n",
        "    if response.status_code == 200:\n",
        "        result = response.json()\n",
        "        translated_text = result['choices'][0]['message']['content']\n",
        "        return translated_text\n",
        "    else:\n",
        "        raise Exception(f\"Groq API Error: {response.status_code}, {response.text}\")\n",
        "\n",
        "if __name__ == \"__main__\":\n",
        "    print(\"=== Multilingual Translator ===\")\n",
        "\n",
        "    # Take user input\n",
        "    source_lang = input(\"\\nEnter the source language: \").strip()\n",
        "    target_lang = input(\"Enter the target language: \").strip()\n",
        "    text = input(\"\\nEnter the text: \").strip()\n",
        "\n",
        "    if text and source_lang and target_lang:\n",
        "        try:\n",
        "            print(\"\\nTranslating using Groq...\")\n",
        "            translated_text = translate_with_groq(text, source_lang, target_lang)\n",
        "            print(f\"\\nTranslation ({source_lang} → {target_lang}):\\n{translated_text}\")\n",
        "        except Exception as e:\n",
        "            print(f\"\\nError: {e}\")\n",
        "    else:\n",
        "        print(\"\\nPlease enter valid input.\")\n"
      ]
    }
  ]
}